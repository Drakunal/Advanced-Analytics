{
 "cells": [
  {
   "cell_type": "code",
   "execution_count": 1,
   "id": "3975f12a",
   "metadata": {},
   "outputs": [],
   "source": [
    "#function to check whether a character i vowel or not\n",
    "def isVowel(x):\n",
    "    if x=='a' or x=='e' or x=='i' or x=='o' or x=='u':\n",
    "        return True\n",
    "    else:\n",
    "        return False"
   ]
  },
  {
   "cell_type": "code",
   "execution_count": 8,
   "id": "10d0b1fd",
   "metadata": {},
   "outputs": [
    {
     "name": "stdout",
     "output_type": "stream",
     "text": [
      "Enter a word kyayaeiouyy\n",
      "k  is consonant\n",
      "y  is vowel\n",
      "a  is vowel\n",
      "y  is consonant\n",
      "a  is vowel\n",
      "e  is vowel\n",
      "i  is vowel\n",
      "o  is vowel\n",
      "u  is vowel\n",
      "y  is consonant\n",
      "y  is vowel\n"
     ]
    }
   ],
   "source": [
    "str = input(\"Enter a word \")\n",
    "for i in range(len(str)):\n",
    "    if str[i]=='y' and i==0:\n",
    "        print(str[i],\" is consonant\" )\n",
    "    elif str[i]=='y' and i>0:\n",
    "        if not(isVowel(str[i-1])):\n",
    "            print (str[i],\" is vowel\")\n",
    "        else:\n",
    "            print (str[i],\" is consonant\")\n",
    "    elif isVowel(str[i]):\n",
    "        print (str[i],\" is vowel\")\n",
    "    elif not(isVowel(str[i])):\n",
    "        print (str[i],\" is consonant\")\n",
    "    "
   ]
  },
  {
   "cell_type": "code",
   "execution_count": 9,
   "id": "6a50c78e",
   "metadata": {},
   "outputs": [
    {
     "name": "stdout",
     "output_type": "stream",
     "text": [
      "Enter a word aeioukkkyaeykkkuyky\n",
      "a  is vowel\n",
      "e  is vowel\n",
      "i  is vowel\n",
      "o  is vowel\n",
      "u  is vowel\n",
      "k  is consonant\n",
      "k  is consonant\n",
      "k  is consonant\n",
      "y  is vowel\n",
      "a  is vowel\n",
      "e  is vowel\n",
      "y  is consonant\n",
      "k  is consonant\n",
      "k  is consonant\n",
      "k  is consonant\n",
      "u  is vowel\n",
      "y  is consonant\n",
      "k  is consonant\n",
      "y  is vowel\n"
     ]
    }
   ],
   "source": [
    "#trying out vc format\n",
    "str = input(\"Enter a word \")\n",
    "flag = 'c'\n",
    "str2 = ''\n",
    "for i in range(len(str)):\n",
    "    if str[i]=='y' and i==0:\n",
    "        if flag != 'c':\n",
    "            str2=str2+'c'\n",
    "        print(str[i],\" is consonant\" )\n",
    "        flag = 'c'\n",
    "        \n",
    "    elif str[i]=='y' and i>0:\n",
    "        if not(isVowel(str[i-1])):\n",
    "            if flag != 'v':\n",
    "                str2=str2+'v'\n",
    "            print (str[i],\" is vowel\")\n",
    "            flag = 'v'\n",
    "        else:\n",
    "            if flag != 'c':\n",
    "                str2=str2+'c'\n",
    "            print (str[i],\" is consonant\")\n",
    "            flag = 'c'\n",
    "    elif isVowel(str[i]):\n",
    "        if flag != 'v':\n",
    "            str2=str2+'v'\n",
    "        print (str[i],\" is vowel\")\n",
    "        flag = 'v'\n",
    "    elif not(isVowel(str[i])):\n",
    "        if flag != 'c':\n",
    "            str2=str2+'c'\n",
    "        print (str[i],\" is consonant\")\n",
    "        flag = 'c'\n",
    "        \n",
    "    "
   ]
  },
  {
   "cell_type": "code",
   "execution_count": 10,
   "id": "c1e3228f",
   "metadata": {},
   "outputs": [
    {
     "name": "stdout",
     "output_type": "stream",
     "text": [
      "vcvcvcv\n"
     ]
    }
   ],
   "source": [
    "print(str2)"
   ]
  },
  {
   "cell_type": "code",
   "execution_count": null,
   "id": "f599b6a4",
   "metadata": {},
   "outputs": [],
   "source": []
  }
 ],
 "metadata": {
  "kernelspec": {
   "display_name": "Python 3 (ipykernel)",
   "language": "python",
   "name": "python3"
  },
  "language_info": {
   "codemirror_mode": {
    "name": "ipython",
    "version": 3
   },
   "file_extension": ".py",
   "mimetype": "text/x-python",
   "name": "python",
   "nbconvert_exporter": "python",
   "pygments_lexer": "ipython3",
   "version": "3.10.2"
  }
 },
 "nbformat": 4,
 "nbformat_minor": 5
}
