{
 "cells": [
  {
   "cell_type": "code",
   "execution_count": null,
   "id": "01beb975",
   "metadata": {},
   "outputs": [],
   "source": [
    "#function to check whether a character i vowel or not\n",
    "def isVowel(x):\n",
    "    if x=='a' or x=='e' or x=='i' or x=='o' or x=='u':\n",
    "        return True\n",
    "    else:\n",
    "        return False"
   ]
  }
 ],
 "metadata": {
  "kernelspec": {
   "display_name": "Python 3 (ipykernel)",
   "language": "python",
   "name": "python3"
  },
  "language_info": {
   "codemirror_mode": {
    "name": "ipython",
    "version": 3
   },
   "file_extension": ".py",
   "mimetype": "text/x-python",
   "name": "python",
   "nbconvert_exporter": "python",
   "pygments_lexer": "ipython3",
   "version": "3.10.2"
  }
 },
 "nbformat": 4,
 "nbformat_minor": 5
}
