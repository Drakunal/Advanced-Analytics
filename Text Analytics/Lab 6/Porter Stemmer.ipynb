{
 "cells": [
  {
   "cell_type": "code",
   "execution_count": 1,
   "id": "7735fa30",
   "metadata": {},
   "outputs": [],
   "source": [
    "#function to check whether a character i vowel or not\n",
    "def isVowel(x):\n",
    "    if x=='a' or x=='e' or x=='i' or x=='o' or x=='u':\n",
    "        return True\n",
    "    else:\n",
    "        return False"
   ]
  },
  {
   "cell_type": "code",
   "execution_count": 8,
   "id": "20fae3b2",
   "metadata": {},
   "outputs": [
    {
     "name": "stdout",
     "output_type": "stream",
     "text": [
      "Enter a word kyayaeiouyy\n",
      "k  is consonant\n",
      "y  is vowel\n",
      "a  is vowel\n",
      "y  is consonant\n",
      "a  is vowel\n",
      "e  is vowel\n",
      "i  is vowel\n",
      "o  is vowel\n",
      "u  is vowel\n",
      "y  is consonant\n",
      "y  is vowel\n"
     ]
    }
   ],
   "source": [
    "str = input(\"Enter a word \")\n",
    "for i in range(len(str)):\n",
    "    if str[i]=='y' and i==0:\n",
    "        print(str[i],\" is consonant\" )\n",
    "    elif str[i]=='y' and i>0:\n",
    "        if not(isVowel(str[i-1])):\n",
    "            print (str[i],\" is vowel\")\n",
    "        else:\n",
    "            print (str[i],\" is consonant\")\n",
    "    elif isVowel(str[i]):\n",
    "        print (str[i],\" is vowel\")\n",
    "    elif not(isVowel(str[i])):\n",
    "        print (str[i],\" is consonant\")\n",
    "    "
   ]
  },
  {
   "cell_type": "code",
   "execution_count": null,
   "id": "c59b840d",
   "metadata": {},
   "outputs": [],
   "source": []
  }
 ],
 "metadata": {
  "kernelspec": {
   "display_name": "Python 3 (ipykernel)",
   "language": "python",
   "name": "python3"
  },
  "language_info": {
   "codemirror_mode": {
    "name": "ipython",
    "version": 3
   },
   "file_extension": ".py",
   "mimetype": "text/x-python",
   "name": "python",
   "nbconvert_exporter": "python",
   "pygments_lexer": "ipython3",
   "version": "3.10.2"
  }
 },
 "nbformat": 4,
 "nbformat_minor": 5
}
